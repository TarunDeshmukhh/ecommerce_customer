{
 "cells": [
  {
   "cell_type": "code",
   "execution_count": 1,
   "metadata": {},
   "outputs": [],
   "source": [
    "# Call Libraries \n",
    "import numpy as np\n",
    "import pandas as pd\n",
    "import matplotlib.pyplot as plt\n",
    "import seaborn as sns\n",
    "import warnings\n",
    "warnings.filterwarnings('ignore')"
   ]
  },
  {
   "cell_type": "code",
   "execution_count": 2,
   "metadata": {},
   "outputs": [],
   "source": [
    "#create variable for dataset\n",
    "df=pd.read_csv('Ecommerce Customers.csv')"
   ]
  },
  {
   "cell_type": "code",
   "execution_count": 3,
   "metadata": {},
   "outputs": [
    {
     "data": {
      "text/plain": [
       "(500, 8)"
      ]
     },
     "execution_count": 3,
     "metadata": {},
     "output_type": "execute_result"
    }
   ],
   "source": [
    "df.shape"
   ]
  },
  {
   "cell_type": "code",
   "execution_count": 4,
   "metadata": {},
   "outputs": [
    {
     "data": {
      "text/html": [
       "<div>\n",
       "<style scoped>\n",
       "    .dataframe tbody tr th:only-of-type {\n",
       "        vertical-align: middle;\n",
       "    }\n",
       "\n",
       "    .dataframe tbody tr th {\n",
       "        vertical-align: top;\n",
       "    }\n",
       "\n",
       "    .dataframe thead th {\n",
       "        text-align: right;\n",
       "    }\n",
       "</style>\n",
       "<table border=\"1\" class=\"dataframe\">\n",
       "  <thead>\n",
       "    <tr style=\"text-align: right;\">\n",
       "      <th></th>\n",
       "      <th>Email</th>\n",
       "      <th>Address</th>\n",
       "      <th>Avatar</th>\n",
       "      <th>Avg. Session Length</th>\n",
       "      <th>Time on App</th>\n",
       "      <th>Time on Website</th>\n",
       "      <th>Length of Membership</th>\n",
       "      <th>Yearly Amount Spent</th>\n",
       "    </tr>\n",
       "  </thead>\n",
       "  <tbody>\n",
       "    <tr>\n",
       "      <th>0</th>\n",
       "      <td>mstephenson@fernandez.com</td>\n",
       "      <td>835 Frank Tunnel\\nWrightmouth, MI 82180-9605</td>\n",
       "      <td>Violet</td>\n",
       "      <td>34.497268</td>\n",
       "      <td>12.655651</td>\n",
       "      <td>39.577668</td>\n",
       "      <td>4.082621</td>\n",
       "      <td>587.951054</td>\n",
       "    </tr>\n",
       "    <tr>\n",
       "      <th>1</th>\n",
       "      <td>hduke@hotmail.com</td>\n",
       "      <td>4547 Archer Common\\nDiazchester, CA 06566-8576</td>\n",
       "      <td>DarkGreen</td>\n",
       "      <td>31.926272</td>\n",
       "      <td>11.109461</td>\n",
       "      <td>37.268959</td>\n",
       "      <td>2.664034</td>\n",
       "      <td>392.204933</td>\n",
       "    </tr>\n",
       "    <tr>\n",
       "      <th>2</th>\n",
       "      <td>pallen@yahoo.com</td>\n",
       "      <td>24645 Valerie Unions Suite 582\\nCobbborough, D...</td>\n",
       "      <td>Bisque</td>\n",
       "      <td>33.000915</td>\n",
       "      <td>11.330278</td>\n",
       "      <td>37.110597</td>\n",
       "      <td>4.104543</td>\n",
       "      <td>487.547505</td>\n",
       "    </tr>\n",
       "    <tr>\n",
       "      <th>3</th>\n",
       "      <td>riverarebecca@gmail.com</td>\n",
       "      <td>1414 David Throughway\\nPort Jason, OH 22070-1220</td>\n",
       "      <td>SaddleBrown</td>\n",
       "      <td>34.305557</td>\n",
       "      <td>13.717514</td>\n",
       "      <td>36.721283</td>\n",
       "      <td>3.120179</td>\n",
       "      <td>581.852344</td>\n",
       "    </tr>\n",
       "    <tr>\n",
       "      <th>4</th>\n",
       "      <td>mstephens@davidson-herman.com</td>\n",
       "      <td>14023 Rodriguez Passage\\nPort Jacobville, PR 3...</td>\n",
       "      <td>MediumAquaMarine</td>\n",
       "      <td>33.330673</td>\n",
       "      <td>12.795189</td>\n",
       "      <td>37.536653</td>\n",
       "      <td>4.446308</td>\n",
       "      <td>599.406092</td>\n",
       "    </tr>\n",
       "  </tbody>\n",
       "</table>\n",
       "</div>"
      ],
      "text/plain": [
       "                           Email  \\\n",
       "0      mstephenson@fernandez.com   \n",
       "1              hduke@hotmail.com   \n",
       "2               pallen@yahoo.com   \n",
       "3        riverarebecca@gmail.com   \n",
       "4  mstephens@davidson-herman.com   \n",
       "\n",
       "                                             Address            Avatar  \\\n",
       "0       835 Frank Tunnel\\nWrightmouth, MI 82180-9605            Violet   \n",
       "1     4547 Archer Common\\nDiazchester, CA 06566-8576         DarkGreen   \n",
       "2  24645 Valerie Unions Suite 582\\nCobbborough, D...            Bisque   \n",
       "3   1414 David Throughway\\nPort Jason, OH 22070-1220       SaddleBrown   \n",
       "4  14023 Rodriguez Passage\\nPort Jacobville, PR 3...  MediumAquaMarine   \n",
       "\n",
       "   Avg. Session Length  Time on App  Time on Website  Length of Membership  \\\n",
       "0            34.497268    12.655651        39.577668              4.082621   \n",
       "1            31.926272    11.109461        37.268959              2.664034   \n",
       "2            33.000915    11.330278        37.110597              4.104543   \n",
       "3            34.305557    13.717514        36.721283              3.120179   \n",
       "4            33.330673    12.795189        37.536653              4.446308   \n",
       "\n",
       "   Yearly Amount Spent  \n",
       "0           587.951054  \n",
       "1           392.204933  \n",
       "2           487.547505  \n",
       "3           581.852344  \n",
       "4           599.406092  "
      ]
     },
     "execution_count": 4,
     "metadata": {},
     "output_type": "execute_result"
    }
   ],
   "source": [
    "df.head()"
   ]
  },
  {
   "cell_type": "code",
   "execution_count": 5,
   "metadata": {},
   "outputs": [
    {
     "data": {
      "text/plain": [
       "Email                   0\n",
       "Address                 0\n",
       "Avatar                  0\n",
       "Avg. Session Length     0\n",
       "Time on App             0\n",
       "Time on Website         0\n",
       "Length of Membership    0\n",
       "Yearly Amount Spent     0\n",
       "dtype: int64"
      ]
     },
     "execution_count": 5,
     "metadata": {},
     "output_type": "execute_result"
    }
   ],
   "source": [
    "# Check Null Values\n",
    "df.isnull().sum()"
   ]
  },
  {
   "cell_type": "code",
   "execution_count": 6,
   "metadata": {},
   "outputs": [
    {
     "name": "stdout",
     "output_type": "stream",
     "text": [
      "<class 'pandas.core.frame.DataFrame'>\n",
      "RangeIndex: 500 entries, 0 to 499\n",
      "Data columns (total 8 columns):\n",
      " #   Column                Non-Null Count  Dtype  \n",
      "---  ------                --------------  -----  \n",
      " 0   Email                 500 non-null    object \n",
      " 1   Address               500 non-null    object \n",
      " 2   Avatar                500 non-null    object \n",
      " 3   Avg. Session Length   500 non-null    float64\n",
      " 4   Time on App           500 non-null    float64\n",
      " 5   Time on Website       500 non-null    float64\n",
      " 6   Length of Membership  500 non-null    float64\n",
      " 7   Yearly Amount Spent   500 non-null    float64\n",
      "dtypes: float64(5), object(3)\n",
      "memory usage: 31.4+ KB\n"
     ]
    }
   ],
   "source": [
    "df.info()"
   ]
  },
  {
   "cell_type": "code",
   "execution_count": 7,
   "metadata": {},
   "outputs": [],
   "source": [
    "#separate numerical data\n",
    "numdf=df.select_dtypes('float64')"
   ]
  },
  {
   "cell_type": "code",
   "execution_count": 8,
   "metadata": {},
   "outputs": [
    {
     "name": "stdout",
     "output_type": "stream",
     "text": [
      "Avg. Session Length\n",
      "min= 29.532428967057943\n",
      "lower Whisker= 30.286577475362726\n",
      "max= 36.13966248879052\n",
      "upper Whisker= 35.76722955310954\n"
     ]
    },
    {
     "data": {
      "image/png": "[encoded data removed]",
      "text/plain": [
       "<Figure size 432x288 with 1 Axes>"
      ]
     },
     "metadata": {
      "needs_background": "light"
     },
     "output_type": "display_data"
    },
    {
     "name": "stdout",
     "output_type": "stream",
     "text": [
      "\n",
      "Time on App\n",
      "min= 8.508152176032603\n",
      "lower Whisker= 9.339608825131295\n",
      "max= 15.126994288792467\n",
      "upper Whisker= 14.802394229583685\n"
     ]
    },
    {
     "data": {
      "image/png": "[encoded data removed]",
      "text/plain": [
       "<Figure size 432x288 with 1 Axes>"
      ]
     },
     "metadata": {
      "needs_background": "light"
     },
     "output_type": "display_data"
    },
    {
     "name": "stdout",
     "output_type": "stream",
     "text": [
      "\n",
      "Time on Website\n",
      "min= 33.91384724758464\n",
      "lower Whisker= 34.29849491039147\n",
      "max= 40.005181638101895\n",
      "upper Whisker= 39.76719469493466\n"
     ]
    },
    {
     "data": {
      "image/png": "[encoded data removed]",
      "text/plain": [
       "<Figure size 432x288 with 1 Axes>"
      ]
     },
     "metadata": {
      "needs_background": "light"
     },
     "output_type": "display_data"
    },
    {
     "name": "stdout",
     "output_type": "stream",
     "text": [
      "\n",
      "Length of Membership\n",
      "min= 0.2699010899842742\n",
      "lower Whisker= 1.1363713579559565\n",
      "max= 6.922689335035808\n",
      "upper Whisker= 5.9205802963707175\n"
     ]
    },
    {
     "data": {
      "image/png": "[encoded data removed]",
      "text/plain": [
       "<Figure size 432x288 with 1 Axes>"
      ]
     },
     "metadata": {
      "needs_background": "light"
     },
     "output_type": "display_data"
    },
    {
     "name": "stdout",
     "output_type": "stream",
     "text": [
      "\n",
      "Yearly Amount Spent\n",
      "min= 256.67058229005585\n",
      "lower Whisker= 288.6249512402365\n",
      "max= 765.5184619388373\n",
      "upper Whisker= 705.7271533863172\n"
     ]
    },
    {
     "data": {
      "image/png": "[encoded data removed]",
      "text/plain": [
       "<Figure size 432x288 with 1 Axes>"
      ]
     },
     "metadata": {
      "needs_background": "light"
     },
     "output_type": "display_data"
    },
    {
     "name": "stdout",
     "output_type": "stream",
     "text": [
      "\n"
     ]
    }
   ],
   "source": [
    "# check outliers \n",
    "for i in numdf:\n",
    "    Q1=df[i].quantile(0.25)\n",
    "    Q3=df[i].quantile(0.75)\n",
    "    IQR=Q3-Q1\n",
    "    lower=Q1-1.5*IQR\n",
    "    upper=Q3+1.5*IQR\n",
    "    print(i)\n",
    "    print('min=',df[i].min())\n",
    "    print('lower Whisker=',lower)\n",
    "    print('max=',df[i].max())\n",
    "    print('upper Whisker=',upper)\n",
    "    plt.figure()\n",
    "    sns.boxplot(data=df,x=i)\n",
    "    plt.show()\n",
    "    print()"
   ]
  },
  {
   "cell_type": "code",
   "execution_count": 9,
   "metadata": {},
   "outputs": [],
   "source": [
    "# as per above analysis\n",
    "#Avg. Session Length\n",
    "x=list(df[df['Avg. Session Length']<30.286577475362726].index)\n",
    "df=df.drop(x)\n",
    "x=list(df[df['Avg. Session Length']>35.76722955310954].index)\n",
    "df=df.drop(x)"
   ]
  },
  {
   "cell_type": "code",
   "execution_count": 10,
   "metadata": {},
   "outputs": [],
   "source": [
    "#Time on App\n",
    "x=list(df[df['Time on App']<9.339608825131295].index)\n",
    "df=df.drop(x)\n",
    "x=list(df[df['Time on App']>14.802394229583685].index)\n",
    "df=df.drop(x)"
   ]
  },
  {
   "cell_type": "code",
   "execution_count": 11,
   "metadata": {},
   "outputs": [],
   "source": [
    "#Time on Website\n",
    "x=list(df[df['Time on Website']<34.29849491039147].index)\n",
    "df=df.drop(x)\n",
    "x=list(df[df['Time on Website']>39.76719469493466].index)\n",
    "df=df.drop(x)"
   ]
  },
  {
   "cell_type": "code",
   "execution_count": 12,
   "metadata": {},
   "outputs": [],
   "source": [
    "#Length of Membership\n",
    "x=list(df[df['Length of Membership']<1.1363713579559565].index)\n",
    "df=df.drop(x)\n",
    "x=list(df[df['Length of Membership']>5.9205802963707175].index)\n",
    "df=df.drop(x)"
   ]
  },
  {
   "cell_type": "code",
   "execution_count": 13,
   "metadata": {},
   "outputs": [],
   "source": [
    "#Yearly Amount Spent\n",
    "x=list(df[df['Yearly Amount Spent']<288.6249512402365].index)\n",
    "df=df.drop(x)\n",
    "x=list(df[df['Yearly Amount Spent']>705.7271533863172].index)\n",
    "df=df.drop(x)"
   ]
  },
  {
   "cell_type": "code",
   "execution_count": 14,
   "metadata": {},
   "outputs": [
    {
     "name": "stdout",
     "output_type": "stream",
     "text": [
      "Avg. Session Length\n",
      "-0.025018184867800608\n",
      "\n",
      "Time on App\n",
      "0.018282934793267525\n",
      "\n",
      "Time on Website\n",
      "0.021140169500289917\n",
      "\n",
      "Length of Membership\n",
      "-0.10288438894993861\n",
      "\n",
      "Yearly Amount Spent\n",
      "0.07093076672787307\n",
      "\n"
     ]
    }
   ],
   "source": [
    "# Now check skewness\n",
    "from scipy.stats import skew\n",
    "for i in numdf:\n",
    "    print(i)\n",
    "    print(skew(df[i]))\n",
    "    print()\n",
    "    "
   ]
  },
  {
   "cell_type": "code",
   "execution_count": 15,
   "metadata": {},
   "outputs": [],
   "source": [
    "# There are no more skewness\n",
    "# Then separate categorical and numerical features\n",
    "catdf=df.select_dtypes('object')\n",
    "numdf=df.select_dtypes('float64')"
   ]
  },
  {
   "cell_type": "code",
   "execution_count": 16,
   "metadata": {},
   "outputs": [],
   "source": [
    "# Do Label Encoding to categorical Data\n",
    "from sklearn.preprocessing import LabelEncoder\n",
    "for i in catdf:\n",
    "    le=LabelEncoder()\n",
    "    catdf[i]=le.fit_transform(catdf[i])"
   ]
  },
  {
   "cell_type": "code",
   "execution_count": 17,
   "metadata": {},
   "outputs": [
    {
     "data": {
      "text/html": [
       "<div>\n",
       "<style scoped>\n",
       "    .dataframe tbody tr th:only-of-type {\n",
       "        vertical-align: middle;\n",
       "    }\n",
       "\n",
       "    .dataframe tbody tr th {\n",
       "        vertical-align: top;\n",
       "    }\n",
       "\n",
       "    .dataframe thead th {\n",
       "        text-align: right;\n",
       "    }\n",
       "</style>\n",
       "<table border=\"1\" class=\"dataframe\">\n",
       "  <thead>\n",
       "    <tr style=\"text-align: right;\">\n",
       "      <th></th>\n",
       "      <th>Email</th>\n",
       "      <th>Address</th>\n",
       "      <th>Avatar</th>\n",
       "      <th>Avg. Session Length</th>\n",
       "      <th>Time on App</th>\n",
       "      <th>Time on Website</th>\n",
       "      <th>Length of Membership</th>\n",
       "      <th>Yearly Amount Spent</th>\n",
       "    </tr>\n",
       "  </thead>\n",
       "  <tbody>\n",
       "    <tr>\n",
       "      <th>0</th>\n",
       "      <td>325</td>\n",
       "      <td>366</td>\n",
       "      <td>132</td>\n",
       "      <td>34.497268</td>\n",
       "      <td>12.655651</td>\n",
       "      <td>39.577668</td>\n",
       "      <td>4.082621</td>\n",
       "      <td>587.951054</td>\n",
       "    </tr>\n",
       "    <tr>\n",
       "      <th>1</th>\n",
       "      <td>180</td>\n",
       "      <td>216</td>\n",
       "      <td>25</td>\n",
       "      <td>31.926272</td>\n",
       "      <td>11.109461</td>\n",
       "      <td>37.268959</td>\n",
       "      <td>2.664034</td>\n",
       "      <td>392.204933</td>\n",
       "    </tr>\n",
       "    <tr>\n",
       "      <th>2</th>\n",
       "      <td>337</td>\n",
       "      <td>116</td>\n",
       "      <td>6</td>\n",
       "      <td>33.000915</td>\n",
       "      <td>11.330278</td>\n",
       "      <td>37.110597</td>\n",
       "      <td>4.104543</td>\n",
       "      <td>487.547505</td>\n",
       "    </tr>\n",
       "    <tr>\n",
       "      <th>3</th>\n",
       "      <td>372</td>\n",
       "      <td>58</td>\n",
       "      <td>114</td>\n",
       "      <td>34.305557</td>\n",
       "      <td>13.717514</td>\n",
       "      <td>36.721283</td>\n",
       "      <td>3.120179</td>\n",
       "      <td>581.852344</td>\n",
       "    </tr>\n",
       "    <tr>\n",
       "      <th>4</th>\n",
       "      <td>324</td>\n",
       "      <td>56</td>\n",
       "      <td>80</td>\n",
       "      <td>33.330673</td>\n",
       "      <td>12.795189</td>\n",
       "      <td>37.536653</td>\n",
       "      <td>4.446308</td>\n",
       "      <td>599.406092</td>\n",
       "    </tr>\n",
       "  </tbody>\n",
       "</table>\n",
       "</div>"
      ],
      "text/plain": [
       "   Email  Address  Avatar  Avg. Session Length  Time on App  Time on Website  \\\n",
       "0    325      366     132            34.497268    12.655651        39.577668   \n",
       "1    180      216      25            31.926272    11.109461        37.268959   \n",
       "2    337      116       6            33.000915    11.330278        37.110597   \n",
       "3    372       58     114            34.305557    13.717514        36.721283   \n",
       "4    324       56      80            33.330673    12.795189        37.536653   \n",
       "\n",
       "   Length of Membership  Yearly Amount Spent  \n",
       "0              4.082621           587.951054  \n",
       "1              2.664034           392.204933  \n",
       "2              4.104543           487.547505  \n",
       "3              3.120179           581.852344  \n",
       "4              4.446308           599.406092  "
      ]
     },
     "execution_count": 17,
     "metadata": {},
     "output_type": "execute_result"
    }
   ],
   "source": [
    "# Concat categorical and numerical data into new variable\n",
    "newdf=pd.concat([catdf,numdf],axis=1)\n",
    "newdf.head()"
   ]
  },
  {
   "cell_type": "code",
   "execution_count": 18,
   "metadata": {},
   "outputs": [],
   "source": [
    "# Do Standard Scaling to data\n",
    "from sklearn.preprocessing import StandardScaler\n",
    "for i in newdf:\n",
    "    ss=StandardScaler()\n",
    "    newdf[i]=ss.fit_transform(newdf[[i]])"
   ]
  },
  {
   "cell_type": "code",
   "execution_count": 19,
   "metadata": {},
   "outputs": [
    {
     "data": {
      "text/html": [
       "<div>\n",
       "<style scoped>\n",
       "    .dataframe tbody tr th:only-of-type {\n",
       "        vertical-align: middle;\n",
       "    }\n",
       "\n",
       "    .dataframe tbody tr th {\n",
       "        vertical-align: top;\n",
       "    }\n",
       "\n",
       "    .dataframe thead th {\n",
       "        text-align: right;\n",
       "    }\n",
       "</style>\n",
       "<table border=\"1\" class=\"dataframe\">\n",
       "  <thead>\n",
       "    <tr style=\"text-align: right;\">\n",
       "      <th></th>\n",
       "      <th>Email</th>\n",
       "      <th>Address</th>\n",
       "      <th>Avatar</th>\n",
       "      <th>Avg. Session Length</th>\n",
       "      <th>Time on App</th>\n",
       "      <th>Time on Website</th>\n",
       "      <th>Length of Membership</th>\n",
       "      <th>Yearly Amount Spent</th>\n",
       "    </tr>\n",
       "  </thead>\n",
       "  <tbody>\n",
       "    <tr>\n",
       "      <th>Email</th>\n",
       "      <td>1.000000</td>\n",
       "      <td>-0.000718</td>\n",
       "      <td>0.069048</td>\n",
       "      <td>-0.050985</td>\n",
       "      <td>0.060733</td>\n",
       "      <td>-0.034180</td>\n",
       "      <td>0.058354</td>\n",
       "      <td>0.062284</td>\n",
       "    </tr>\n",
       "    <tr>\n",
       "      <th>Address</th>\n",
       "      <td>-0.000718</td>\n",
       "      <td>1.000000</td>\n",
       "      <td>0.044034</td>\n",
       "      <td>0.039630</td>\n",
       "      <td>0.004484</td>\n",
       "      <td>0.067951</td>\n",
       "      <td>-0.114030</td>\n",
       "      <td>-0.073697</td>\n",
       "    </tr>\n",
       "    <tr>\n",
       "      <th>Avatar</th>\n",
       "      <td>0.069048</td>\n",
       "      <td>0.044034</td>\n",
       "      <td>1.000000</td>\n",
       "      <td>0.038403</td>\n",
       "      <td>-0.009655</td>\n",
       "      <td>0.006842</td>\n",
       "      <td>0.027548</td>\n",
       "      <td>0.034420</td>\n",
       "    </tr>\n",
       "    <tr>\n",
       "      <th>Avg. Session Length</th>\n",
       "      <td>-0.050985</td>\n",
       "      <td>0.039630</td>\n",
       "      <td>0.038403</td>\n",
       "      <td>1.000000</td>\n",
       "      <td>-0.038177</td>\n",
       "      <td>-0.004834</td>\n",
       "      <td>0.013809</td>\n",
       "      <td>0.339804</td>\n",
       "    </tr>\n",
       "    <tr>\n",
       "      <th>Time on App</th>\n",
       "      <td>0.060733</td>\n",
       "      <td>0.004484</td>\n",
       "      <td>-0.009655</td>\n",
       "      <td>-0.038177</td>\n",
       "      <td>1.000000</td>\n",
       "      <td>0.065210</td>\n",
       "      <td>-0.054382</td>\n",
       "      <td>0.475560</td>\n",
       "    </tr>\n",
       "    <tr>\n",
       "      <th>Time on Website</th>\n",
       "      <td>-0.034180</td>\n",
       "      <td>0.067951</td>\n",
       "      <td>0.006842</td>\n",
       "      <td>-0.004834</td>\n",
       "      <td>0.065210</td>\n",
       "      <td>1.000000</td>\n",
       "      <td>-0.046572</td>\n",
       "      <td>0.000581</td>\n",
       "    </tr>\n",
       "    <tr>\n",
       "      <th>Length of Membership</th>\n",
       "      <td>0.058354</td>\n",
       "      <td>-0.114030</td>\n",
       "      <td>0.027548</td>\n",
       "      <td>0.013809</td>\n",
       "      <td>-0.054382</td>\n",
       "      <td>-0.046572</td>\n",
       "      <td>1.000000</td>\n",
       "      <td>0.767651</td>\n",
       "    </tr>\n",
       "    <tr>\n",
       "      <th>Yearly Amount Spent</th>\n",
       "      <td>0.062284</td>\n",
       "      <td>-0.073697</td>\n",
       "      <td>0.034420</td>\n",
       "      <td>0.339804</td>\n",
       "      <td>0.475560</td>\n",
       "      <td>0.000581</td>\n",
       "      <td>0.767651</td>\n",
       "      <td>1.000000</td>\n",
       "    </tr>\n",
       "  </tbody>\n",
       "</table>\n",
       "</div>"
      ],
      "text/plain": [
       "                         Email   Address    Avatar  Avg. Session Length  \\\n",
       "Email                 1.000000 -0.000718  0.069048            -0.050985   \n",
       "Address              -0.000718  1.000000  0.044034             0.039630   \n",
       "Avatar                0.069048  0.044034  1.000000             0.038403   \n",
       "Avg. Session Length  -0.050985  0.039630  0.038403             1.000000   \n",
       "Time on App           0.060733  0.004484 -0.009655            -0.038177   \n",
       "Time on Website      -0.034180  0.067951  0.006842            -0.004834   \n",
       "Length of Membership  0.058354 -0.114030  0.027548             0.013809   \n",
       "Yearly Amount Spent   0.062284 -0.073697  0.034420             0.339804   \n",
       "\n",
       "                      Time on App  Time on Website  Length of Membership  \\\n",
       "Email                    0.060733        -0.034180              0.058354   \n",
       "Address                  0.004484         0.067951             -0.114030   \n",
       "Avatar                  -0.009655         0.006842              0.027548   \n",
       "Avg. Session Length     -0.038177        -0.004834              0.013809   \n",
       "Time on App              1.000000         0.065210             -0.054382   \n",
       "Time on Website          0.065210         1.000000             -0.046572   \n",
       "Length of Membership    -0.054382        -0.046572              1.000000   \n",
       "Yearly Amount Spent      0.475560         0.000581              0.767651   \n",
       "\n",
       "                      Yearly Amount Spent  \n",
       "Email                            0.062284  \n",
       "Address                         -0.073697  \n",
       "Avatar                           0.034420  \n",
       "Avg. Session Length              0.339804  \n",
       "Time on App                      0.475560  \n",
       "Time on Website                  0.000581  \n",
       "Length of Membership             0.767651  \n",
       "Yearly Amount Spent              1.000000  "
      ]
     },
     "execution_count": 19,
     "metadata": {},
     "output_type": "execute_result"
    }
   ],
   "source": [
    "# Check correlation coefficient\n",
    "newdf.corr()"
   ]
  },
  {
   "cell_type": "code",
   "execution_count": 20,
   "metadata": {},
   "outputs": [],
   "source": [
    "#As per above analysis important features are - 'Avg. Session Length','Time on App','Length of Membership'"
   ]
  },
  {
   "cell_type": "code",
   "execution_count": 21,
   "metadata": {},
   "outputs": [],
   "source": [
    "# then take X and Y as Important Independant features and Dependant Features respectively\n",
    "X=newdf[['Avg. Session Length','Time on App','Length of Membership']]\n",
    "Y=newdf['Yearly Amount Spent']"
   ]
  },
  {
   "cell_type": "code",
   "execution_count": 22,
   "metadata": {},
   "outputs": [],
   "source": [
    "# Split the train and test data\n",
    "from sklearn.model_selection import train_test_split\n",
    "from sklearn.linear_model import LinearRegression\n",
    "X_train,X_test,Y_train,Y_test=train_test_split(X,Y,test_size=0.3,random_state=1)"
   ]
  },
  {
   "cell_type": "markdown",
   "metadata": {},
   "source": [
    "# Apply Linear Regression"
   ]
  },
  {
   "cell_type": "code",
   "execution_count": 23,
   "metadata": {},
   "outputs": [
    {
     "name": "stdout",
     "output_type": "stream",
     "text": [
      "Train Score= 0.9785452898540035\n",
      "Test Score= 0.9811179246213177\n"
     ]
    }
   ],
   "source": [
    "lr=LinearRegression()\n",
    "lr.fit(X_train,Y_train)\n",
    "Y_predict=lr.predict(X_test)\n",
    "print('Train Score=',lr.score(X_train,Y_train))\n",
    "print('Test Score=',lr.score(X_test,Y_test))"
   ]
  },
  {
   "cell_type": "code",
   "execution_count": 24,
   "metadata": {
    "scrolled": true
   },
   "outputs": [
    {
     "name": "stdout",
     "output_type": "stream",
     "text": [
      "Mean of Residual= 0.00657554905374544\n",
      "MSE= 0.020394412060129305\n",
      "RMSE= 0.14280900552881567\n",
      "r2_score= 0.9811179246213177\n"
     ]
    }
   ],
   "source": [
    "from sklearn.metrics import mean_squared_error,r2_score\n",
    "\n",
    "residual1=Y_test-Y_predict\n",
    "\n",
    "residual=residual1.mean()\n",
    "print(\"Mean of Residual=\",residual)\n",
    "\n",
    "mse=mean_squared_error(Y_test,Y_predict)\n",
    "\n",
    "rmse=np.sqrt(mse)\n",
    "\n",
    "r2s=r2_score(Y_test,Y_predict)\n",
    "\n",
    "print('MSE=',mse)\n",
    "print('RMSE=',rmse)\n",
    "print('r2_score=',r2s)"
   ]
  },
  {
   "cell_type": "code",
   "execution_count": 25,
   "metadata": {},
   "outputs": [
    {
     "data": {
      "text/plain": [
       "'\\nConclusion:\\n            Train Score= 0.9785452898540035\\n            Test Score= 0.9811179246213177\\n'"
      ]
     },
     "execution_count": 25,
     "metadata": {},
     "output_type": "execute_result"
    }
   ],
   "source": [
    "'''\n",
    "Conclusion:\n",
    "            Train Score= 0.9785452898540035\n",
    "            Test Score= 0.9811179246213177\n",
    "'''"
   ]
  }
 ],
 "metadata": {
  "kernelspec": {
   "display_name": "Python 3",
   "language": "python",
   "name": "python3"
  },
  "language_info": {
   "codemirror_mode": {
    "name": "ipython",
    "version": 3
   },
   "file_extension": ".py",
   "mimetype": "text/x-python",
   "name": "python",
   "nbconvert_exporter": "python",
   "pygments_lexer": "ipython3",
   "version": "3.8.3"
  }
 },
 "nbformat": 4,
 "nbformat_minor": 4
}
